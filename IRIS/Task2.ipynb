{
 "cells": [
  {
   "cell_type": "markdown",
   "metadata": {},
   "source": [
    "# Iris Flower Dataset business case"
   ]
  },
  {
   "cell_type": "markdown",
   "metadata": {},
   "source": [
    "### Importing the Packages & the Date"
   ]
  },
  {
   "cell_type": "code",
   "execution_count": 1,
   "metadata": {
    "colab": {
     "base_uri": "https://localhost:8080/"
    },
    "id": "-gb9ZvigFKsB",
    "outputId": "6e5a61e0-a5d7-4c64-cd82-4f7d89f4d876"
   },
   "outputs": [
    {
     "data": {
      "text/plain": [
       "array([['5.1', '3.5', '1.4', '0.2', 'Iris-setosa'],\n",
       "       ['4.9', '3', '1.4', '0.2', 'Iris-setosa'],\n",
       "       ['4.7', '3.2', '1.3', '0.2', 'Iris-setosa'],\n",
       "       ['4.6', '3.1', '1.5', '0.2', 'Iris-setosa'],\n",
       "       ['5', '3.6', '1.4', '0.2', 'Iris-setosa']], dtype='<U15')"
      ]
     },
     "execution_count": 1,
     "metadata": {},
     "output_type": "execute_result"
    }
   ],
   "source": [
    "import numpy as np\n",
    "from sklearn import preprocessing\n",
    "import tensorflow as tf\n",
    "\n",
    "raw_csv_data = np.loadtxt('IRIS.csv', delimiter = ',',skiprows=1,dtype=str)\n",
    "raw_csv_data[:5,:]"
   ]
  },
  {
   "cell_type": "markdown",
   "metadata": {},
   "source": [
    "### Checking for Incomplete Data"
   ]
  },
  {
   "cell_type": "code",
   "execution_count": 2,
   "metadata": {
    "colab": {
     "base_uri": "https://localhost:8080/"
    },
    "id": "-Gb5UaLLIFbu",
    "outputId": "658e642f-6e1e-4456-c85f-cf151b37a5ff"
   },
   "outputs": [
    {
     "data": {
      "text/plain": [
       "0"
      ]
     },
     "execution_count": 2,
     "metadata": {},
     "output_type": "execute_result"
    }
   ],
   "source": [
    "np.isnan(raw_csv_data[:,:-1].astype(float)).sum()"
   ]
  },
  {
   "cell_type": "markdown",
   "metadata": {},
   "source": [
    "### splitting the Data"
   ]
  },
  {
   "cell_type": "code",
   "execution_count": 3,
   "metadata": {
    "id": "dow70LvNHen3"
   },
   "outputs": [],
   "source": [
    "inputs_all = raw_csv_data[:,1:-1]\n",
    "targets_all = raw_csv_data[:,-1]"
   ]
  },
  {
   "cell_type": "markdown",
   "metadata": {},
   "source": [
    "### coverting the target to Numeric"
   ]
  },
  {
   "cell_type": "code",
   "execution_count": 4,
   "metadata": {
    "colab": {
     "base_uri": "https://localhost:8080/"
    },
    "id": "tfFnhRhCI4kw",
    "outputId": "b94eb476-0121-46ae-ebb7-b034070cd9fe"
   },
   "outputs": [
    {
     "data": {
      "text/plain": [
       "(array(['Iris-setosa', 'Iris-versicolor', 'Iris-virginica'], dtype='<U15'),\n",
       " array([50, 50, 50]))"
      ]
     },
     "execution_count": 4,
     "metadata": {},
     "output_type": "execute_result"
    }
   ],
   "source": [
    "np.unique(targets_all,return_counts=True)"
   ]
  },
  {
   "cell_type": "code",
   "execution_count": 5,
   "metadata": {
    "id": "B9fKpzw1Jc9W"
   },
   "outputs": [],
   "source": [
    "keys = list(np.unique(targets_all))\n",
    "values = list(range(0, np.unique(targets_all).shape[0]))\n",
    "dict_target = dict(zip(keys, values))"
   ]
  },
  {
   "cell_type": "code",
   "execution_count": 6,
   "metadata": {
    "colab": {
     "base_uri": "https://localhost:8080/"
    },
    "id": "sNsO7IWJKNjd",
    "outputId": "1619d7b1-6815-4c05-af3c-d1f52c439d15"
   },
   "outputs": [
    {
     "data": {
      "text/plain": [
       "{'Iris-setosa': 0, 'Iris-versicolor': 1, 'Iris-virginica': 2}"
      ]
     },
     "execution_count": 6,
     "metadata": {},
     "output_type": "execute_result"
    }
   ],
   "source": [
    "dict_target"
   ]
  },
  {
   "cell_type": "code",
   "execution_count": 7,
   "metadata": {
    "id": "HRNXOcBvKWOy"
   },
   "outputs": [],
   "source": [
    "for i in np.unique(targets_all):\n",
    "       targets_all = np.where(targets_all == i,\n",
    "                                          dict_target[i],\n",
    "                                          targets_all)"
   ]
  },
  {
   "cell_type": "code",
   "execution_count": 8,
   "metadata": {
    "colab": {
     "base_uri": "https://localhost:8080/"
    },
    "id": "1OBb1yczKo1d",
    "outputId": "28a7b820-c257-41f4-8e98-513e6dde47af"
   },
   "outputs": [
    {
     "data": {
      "text/plain": [
       "(array(['0', '1', '2'], dtype='<U15'), array([50, 50, 50]))"
      ]
     },
     "execution_count": 8,
     "metadata": {},
     "output_type": "execute_result"
    }
   ],
   "source": [
    "np.unique(targets_all,return_counts=True)"
   ]
  },
  {
   "cell_type": "markdown",
   "metadata": {},
   "source": [
    "### coverting to numbers"
   ]
  },
  {
   "cell_type": "code",
   "execution_count": 9,
   "metadata": {
    "id": "jUVC175KKpcE"
   },
   "outputs": [],
   "source": [
    "inputs_all = inputs_all.astype(float)\n",
    "targets_all = targets_all.astype(int)"
   ]
  },
  {
   "cell_type": "markdown",
   "metadata": {},
   "source": [
    "### Standardize the inputs"
   ]
  },
  {
   "cell_type": "code",
   "execution_count": 10,
   "metadata": {
    "id": "T4mxvMhsLO3C"
   },
   "outputs": [],
   "source": [
    "scaled_inputs = preprocessing.scale(inputs_all)"
   ]
  },
  {
   "cell_type": "markdown",
   "metadata": {},
   "source": [
    "### Shuffle the data"
   ]
  },
  {
   "cell_type": "code",
   "execution_count": 11,
   "metadata": {
    "id": "fSXLN3CTLO8e"
   },
   "outputs": [],
   "source": [
    "shuffled_indices = np.arange(scaled_inputs.shape[0])\n",
    "np.random.shuffle(shuffled_indices)\n",
    "\n",
    "shuffled_inputs = scaled_inputs[shuffled_indices]\n",
    "shuffled_targets = targets_all[shuffled_indices]"
   ]
  },
  {
   "cell_type": "markdown",
   "metadata": {},
   "source": [
    "### Split the dataset into train, validation, and test"
   ]
  },
  {
   "cell_type": "code",
   "execution_count": 12,
   "metadata": {
    "colab": {
     "base_uri": "https://localhost:8080/"
    },
    "id": "ltEoihsXLPBF",
    "outputId": "09a66f22-325d-4df9-a6b8-6802d070d666"
   },
   "outputs": [
    {
     "name": "stdout",
     "output_type": "stream",
     "text": [
      "121 120\n",
      "18 15\n",
      "11 15\n"
     ]
    }
   ],
   "source": [
    "samples_count = shuffled_inputs.shape[0]\n",
    "\n",
    "train_samples_count = int(0.8*samples_count)\n",
    "validation_samples_count = int(0.1*samples_count)\n",
    "test_samples_count = samples_count - train_samples_count - validation_samples_count\n",
    "\n",
    "train_inputs = shuffled_inputs[:train_samples_count]\n",
    "train_targets = shuffled_targets[:train_samples_count]\n",
    "\n",
    "validation_inputs = shuffled_inputs[train_samples_count:train_samples_count+validation_samples_count]\n",
    "validation_targets = shuffled_targets[train_samples_count:train_samples_count+validation_samples_count]\n",
    "\n",
    "test_inputs = shuffled_inputs[train_samples_count+validation_samples_count:]\n",
    "test_targets = shuffled_targets[train_samples_count+validation_samples_count:]\n",
    "\n",
    "print(np.sum(train_targets), train_samples_count)\n",
    "print(np.sum(validation_targets), validation_samples_count)\n",
    "print(np.sum(test_targets), test_samples_count)"
   ]
  },
  {
   "cell_type": "markdown",
   "metadata": {},
   "source": [
    "### converting the dataset into .npz files"
   ]
  },
  {
   "cell_type": "code",
   "execution_count": 13,
   "metadata": {
    "id": "t4YH-FX0LPEl"
   },
   "outputs": [],
   "source": [
    "np.savez('IRIS_data_train', inputs=train_inputs, targets=train_targets)\n",
    "np.savez('IRIS_data_validation', inputs=validation_inputs, targets=validation_targets)\n",
    "np.savez('IRIS_data_test', inputs=test_inputs, targets=test_targets)"
   ]
  },
  {
   "cell_type": "code",
   "execution_count": 14,
   "metadata": {
    "id": "U6n2rq4YLPJg"
   },
   "outputs": [],
   "source": [
    "npz = np.load('IRIS_data_train.npz')\n",
    "\n",
    "train_inputs = npz['inputs'].astype(float)\n",
    "train_targets = npz['targets'].astype(int)\n",
    "\n",
    "npz = np.load('IRIS_data_validation.npz')\n",
    "validation_inputs, validation_targets = npz['inputs'].astype(float), npz['targets'].astype(int)\n",
    "\n",
    "npz = np.load('IRIS_data_test.npz')\n",
    "test_inputs, test_targets = npz['inputs'].astype(float), npz['targets'].astype(int)"
   ]
  },
  {
   "cell_type": "markdown",
   "metadata": {},
   "source": [
    "### Model\n",
    "#### Outline, optimizers, loss, early stopping and training"
   ]
  },
  {
   "cell_type": "code",
   "execution_count": 15,
   "metadata": {
    "colab": {
     "base_uri": "https://localhost:8080/"
    },
    "id": "gAoVzNpzMtng",
    "outputId": "31b8939e-1139-4df4-a7e0-59ef62e6b8be"
   },
   "outputs": [
    {
     "name": "stdout",
     "output_type": "stream",
     "text": [
      "Epoch 1/100\n",
      "2/2 - 2s - loss: 1.3480 - accuracy: 0.3250 - val_loss: 1.4284 - val_accuracy: 0.2000 - 2s/epoch - 1s/step\n",
      "Epoch 2/100\n",
      "2/2 - 0s - loss: 1.3015 - accuracy: 0.3250 - val_loss: 1.3751 - val_accuracy: 0.2000 - 166ms/epoch - 83ms/step\n",
      "Epoch 3/100\n",
      "2/2 - 0s - loss: 1.2595 - accuracy: 0.3250 - val_loss: 1.3258 - val_accuracy: 0.2000 - 96ms/epoch - 48ms/step\n",
      "Epoch 4/100\n",
      "2/2 - 0s - loss: 1.2201 - accuracy: 0.3250 - val_loss: 1.2808 - val_accuracy: 0.2000 - 184ms/epoch - 92ms/step\n",
      "Epoch 5/100\n",
      "2/2 - 0s - loss: 1.1824 - accuracy: 0.3250 - val_loss: 1.2387 - val_accuracy: 0.2000 - 232ms/epoch - 116ms/step\n",
      "Epoch 6/100\n",
      "2/2 - 0s - loss: 1.1476 - accuracy: 0.3333 - val_loss: 1.1991 - val_accuracy: 0.2667 - 103ms/epoch - 52ms/step\n",
      "Epoch 7/100\n",
      "2/2 - 0s - loss: 1.1128 - accuracy: 0.3750 - val_loss: 1.1622 - val_accuracy: 0.3333 - 180ms/epoch - 90ms/step\n",
      "Epoch 8/100\n",
      "2/2 - 0s - loss: 1.0814 - accuracy: 0.3917 - val_loss: 1.1267 - val_accuracy: 0.3333 - 154ms/epoch - 77ms/step\n",
      "Epoch 9/100\n",
      "2/2 - 0s - loss: 1.0534 - accuracy: 0.4417 - val_loss: 1.0938 - val_accuracy: 0.3333 - 70ms/epoch - 35ms/step\n",
      "Epoch 10/100\n",
      "2/2 - 0s - loss: 1.0256 - accuracy: 0.4750 - val_loss: 1.0643 - val_accuracy: 0.4667 - 85ms/epoch - 43ms/step\n",
      "Epoch 11/100\n",
      "2/2 - 0s - loss: 0.9983 - accuracy: 0.5167 - val_loss: 1.0381 - val_accuracy: 0.4667 - 142ms/epoch - 71ms/step\n",
      "Epoch 12/100\n",
      "2/2 - 0s - loss: 0.9749 - accuracy: 0.5500 - val_loss: 1.0134 - val_accuracy: 0.4667 - 178ms/epoch - 89ms/step\n",
      "Epoch 13/100\n",
      "2/2 - 0s - loss: 0.9522 - accuracy: 0.5750 - val_loss: 0.9898 - val_accuracy: 0.4667 - 115ms/epoch - 58ms/step\n",
      "Epoch 14/100\n",
      "2/2 - 0s - loss: 0.9293 - accuracy: 0.6333 - val_loss: 0.9674 - val_accuracy: 0.5333 - 165ms/epoch - 82ms/step\n",
      "Epoch 15/100\n",
      "2/2 - 0s - loss: 0.9089 - accuracy: 0.7167 - val_loss: 0.9460 - val_accuracy: 0.6000 - 83ms/epoch - 41ms/step\n",
      "Epoch 16/100\n",
      "2/2 - 0s - loss: 0.8883 - accuracy: 0.8417 - val_loss: 0.9253 - val_accuracy: 0.8000 - 156ms/epoch - 78ms/step\n",
      "Epoch 17/100\n",
      "2/2 - 0s - loss: 0.8700 - accuracy: 0.9500 - val_loss: 0.9060 - val_accuracy: 0.8667 - 135ms/epoch - 67ms/step\n",
      "Epoch 18/100\n",
      "2/2 - 0s - loss: 0.8504 - accuracy: 0.9417 - val_loss: 0.8880 - val_accuracy: 0.9333 - 119ms/epoch - 60ms/step\n",
      "Epoch 19/100\n",
      "2/2 - 0s - loss: 0.8327 - accuracy: 0.9167 - val_loss: 0.8707 - val_accuracy: 0.9333 - 82ms/epoch - 41ms/step\n",
      "Epoch 20/100\n",
      "2/2 - 0s - loss: 0.8141 - accuracy: 0.8833 - val_loss: 0.8543 - val_accuracy: 0.9333 - 117ms/epoch - 59ms/step\n",
      "Epoch 21/100\n",
      "2/2 - 0s - loss: 0.7967 - accuracy: 0.8667 - val_loss: 0.8384 - val_accuracy: 0.8667 - 166ms/epoch - 83ms/step\n",
      "Epoch 22/100\n",
      "2/2 - 0s - loss: 0.7788 - accuracy: 0.8500 - val_loss: 0.8225 - val_accuracy: 0.8667 - 90ms/epoch - 45ms/step\n",
      "Epoch 23/100\n",
      "2/2 - 0s - loss: 0.7611 - accuracy: 0.8667 - val_loss: 0.8070 - val_accuracy: 0.9333 - 104ms/epoch - 52ms/step\n",
      "Epoch 24/100\n",
      "2/2 - 0s - loss: 0.7438 - accuracy: 0.8833 - val_loss: 0.7920 - val_accuracy: 0.9333 - 77ms/epoch - 38ms/step\n",
      "Epoch 25/100\n",
      "2/2 - 0s - loss: 0.7267 - accuracy: 0.8750 - val_loss: 0.7775 - val_accuracy: 0.9333 - 158ms/epoch - 79ms/step\n",
      "Epoch 26/100\n",
      "2/2 - 0s - loss: 0.7099 - accuracy: 0.8750 - val_loss: 0.7633 - val_accuracy: 0.8667 - 95ms/epoch - 48ms/step\n",
      "Epoch 27/100\n",
      "2/2 - 0s - loss: 0.6933 - accuracy: 0.8833 - val_loss: 0.7491 - val_accuracy: 0.8667 - 126ms/epoch - 63ms/step\n",
      "Epoch 28/100\n",
      "2/2 - 0s - loss: 0.6775 - accuracy: 0.8750 - val_loss: 0.7350 - val_accuracy: 0.8667 - 147ms/epoch - 74ms/step\n",
      "Epoch 29/100\n",
      "2/2 - 0s - loss: 0.6615 - accuracy: 0.8750 - val_loss: 0.7209 - val_accuracy: 0.8667 - 91ms/epoch - 46ms/step\n",
      "Epoch 30/100\n",
      "2/2 - 0s - loss: 0.6461 - accuracy: 0.8750 - val_loss: 0.7072 - val_accuracy: 0.8667 - 69ms/epoch - 35ms/step\n",
      "Epoch 31/100\n",
      "2/2 - 0s - loss: 0.6310 - accuracy: 0.8750 - val_loss: 0.6940 - val_accuracy: 0.8667 - 82ms/epoch - 41ms/step\n",
      "Epoch 32/100\n",
      "2/2 - 0s - loss: 0.6161 - accuracy: 0.8750 - val_loss: 0.6810 - val_accuracy: 0.9333 - 67ms/epoch - 34ms/step\n",
      "Epoch 33/100\n",
      "2/2 - 0s - loss: 0.6017 - accuracy: 0.8917 - val_loss: 0.6683 - val_accuracy: 0.9333 - 79ms/epoch - 39ms/step\n",
      "Epoch 34/100\n",
      "2/2 - 0s - loss: 0.5878 - accuracy: 0.9000 - val_loss: 0.6558 - val_accuracy: 0.9333 - 59ms/epoch - 30ms/step\n",
      "Epoch 35/100\n",
      "2/2 - 0s - loss: 0.5746 - accuracy: 0.9167 - val_loss: 0.6434 - val_accuracy: 0.9333 - 83ms/epoch - 41ms/step\n",
      "Epoch 36/100\n",
      "2/2 - 0s - loss: 0.5617 - accuracy: 0.9333 - val_loss: 0.6314 - val_accuracy: 0.9333 - 90ms/epoch - 45ms/step\n",
      "Epoch 37/100\n",
      "2/2 - 0s - loss: 0.5494 - accuracy: 0.9500 - val_loss: 0.6196 - val_accuracy: 0.9333 - 79ms/epoch - 40ms/step\n",
      "Epoch 38/100\n",
      "2/2 - 0s - loss: 0.5372 - accuracy: 0.9500 - val_loss: 0.6081 - val_accuracy: 0.9333 - 64ms/epoch - 32ms/step\n",
      "Epoch 39/100\n",
      "2/2 - 0s - loss: 0.5252 - accuracy: 0.9500 - val_loss: 0.5966 - val_accuracy: 0.9333 - 67ms/epoch - 33ms/step\n",
      "Epoch 40/100\n",
      "2/2 - 0s - loss: 0.5136 - accuracy: 0.9333 - val_loss: 0.5854 - val_accuracy: 0.9333 - 97ms/epoch - 48ms/step\n",
      "Epoch 41/100\n",
      "2/2 - 0s - loss: 0.5025 - accuracy: 0.9167 - val_loss: 0.5746 - val_accuracy: 0.9333 - 74ms/epoch - 37ms/step\n",
      "Epoch 42/100\n",
      "2/2 - 0s - loss: 0.4916 - accuracy: 0.9167 - val_loss: 0.5643 - val_accuracy: 0.9333 - 127ms/epoch - 64ms/step\n",
      "Epoch 43/100\n",
      "2/2 - 0s - loss: 0.4815 - accuracy: 0.9000 - val_loss: 0.5544 - val_accuracy: 0.9333 - 89ms/epoch - 44ms/step\n",
      "Epoch 44/100\n",
      "2/2 - 0s - loss: 0.4717 - accuracy: 0.9000 - val_loss: 0.5451 - val_accuracy: 0.9333 - 109ms/epoch - 54ms/step\n",
      "Epoch 45/100\n",
      "2/2 - 0s - loss: 0.4628 - accuracy: 0.8833 - val_loss: 0.5363 - val_accuracy: 0.8667 - 106ms/epoch - 53ms/step\n",
      "Epoch 46/100\n",
      "2/2 - 0s - loss: 0.4543 - accuracy: 0.8833 - val_loss: 0.5276 - val_accuracy: 0.8667 - 82ms/epoch - 41ms/step\n",
      "Epoch 47/100\n",
      "2/2 - 0s - loss: 0.4459 - accuracy: 0.8667 - val_loss: 0.5189 - val_accuracy: 0.8667 - 192ms/epoch - 96ms/step\n",
      "Epoch 48/100\n",
      "2/2 - 0s - loss: 0.4377 - accuracy: 0.8667 - val_loss: 0.5105 - val_accuracy: 0.8667 - 112ms/epoch - 56ms/step\n",
      "Epoch 49/100\n",
      "2/2 - 0s - loss: 0.4306 - accuracy: 0.8750 - val_loss: 0.5021 - val_accuracy: 0.8667 - 135ms/epoch - 68ms/step\n",
      "Epoch 50/100\n",
      "2/2 - 0s - loss: 0.4230 - accuracy: 0.8667 - val_loss: 0.4935 - val_accuracy: 0.8667 - 119ms/epoch - 59ms/step\n",
      "Epoch 51/100\n",
      "2/2 - 0s - loss: 0.4151 - accuracy: 0.8750 - val_loss: 0.4849 - val_accuracy: 0.8667 - 38ms/epoch - 19ms/step\n",
      "Epoch 52/100\n",
      "2/2 - 0s - loss: 0.4072 - accuracy: 0.8833 - val_loss: 0.4767 - val_accuracy: 0.9333 - 41ms/epoch - 20ms/step\n",
      "Epoch 53/100\n",
      "2/2 - 0s - loss: 0.3998 - accuracy: 0.9000 - val_loss: 0.4690 - val_accuracy: 0.9333 - 40ms/epoch - 20ms/step\n",
      "Epoch 54/100\n",
      "2/2 - 0s - loss: 0.3924 - accuracy: 0.9000 - val_loss: 0.4618 - val_accuracy: 0.9333 - 55ms/epoch - 28ms/step\n",
      "Epoch 55/100\n",
      "2/2 - 0s - loss: 0.3855 - accuracy: 0.9083 - val_loss: 0.4549 - val_accuracy: 0.9333 - 55ms/epoch - 27ms/step\n",
      "Epoch 56/100\n",
      "2/2 - 0s - loss: 0.3791 - accuracy: 0.9167 - val_loss: 0.4483 - val_accuracy: 0.9333 - 60ms/epoch - 30ms/step\n",
      "Epoch 57/100\n",
      "2/2 - 0s - loss: 0.3731 - accuracy: 0.9250 - val_loss: 0.4418 - val_accuracy: 0.9333 - 40ms/epoch - 20ms/step\n",
      "Epoch 58/100\n",
      "2/2 - 0s - loss: 0.3669 - accuracy: 0.9250 - val_loss: 0.4354 - val_accuracy: 0.9333 - 38ms/epoch - 19ms/step\n",
      "Epoch 59/100\n",
      "2/2 - 0s - loss: 0.3614 - accuracy: 0.9250 - val_loss: 0.4293 - val_accuracy: 0.9333 - 40ms/epoch - 20ms/step\n",
      "Epoch 60/100\n",
      "2/2 - 0s - loss: 0.3556 - accuracy: 0.9250 - val_loss: 0.4229 - val_accuracy: 0.9333 - 39ms/epoch - 19ms/step\n",
      "Epoch 61/100\n",
      "2/2 - 0s - loss: 0.3502 - accuracy: 0.9250 - val_loss: 0.4166 - val_accuracy: 0.9333 - 58ms/epoch - 29ms/step\n",
      "Epoch 62/100\n",
      "2/2 - 0s - loss: 0.3450 - accuracy: 0.9250 - val_loss: 0.4104 - val_accuracy: 0.9333 - 38ms/epoch - 19ms/step\n",
      "Epoch 63/100\n",
      "2/2 - 0s - loss: 0.3398 - accuracy: 0.9250 - val_loss: 0.4043 - val_accuracy: 0.9333 - 57ms/epoch - 28ms/step\n",
      "Epoch 64/100\n",
      "2/2 - 0s - loss: 0.3349 - accuracy: 0.9250 - val_loss: 0.3983 - val_accuracy: 0.9333 - 82ms/epoch - 41ms/step\n",
      "Epoch 65/100\n",
      "2/2 - 0s - loss: 0.3303 - accuracy: 0.9167 - val_loss: 0.3926 - val_accuracy: 0.9333 - 64ms/epoch - 32ms/step\n",
      "Epoch 66/100\n",
      "2/2 - 0s - loss: 0.3256 - accuracy: 0.9167 - val_loss: 0.3870 - val_accuracy: 0.9333 - 62ms/epoch - 31ms/step\n",
      "Epoch 67/100\n",
      "2/2 - 0s - loss: 0.3213 - accuracy: 0.9167 - val_loss: 0.3815 - val_accuracy: 0.9333 - 70ms/epoch - 35ms/step\n",
      "Epoch 68/100\n",
      "2/2 - 0s - loss: 0.3169 - accuracy: 0.9167 - val_loss: 0.3763 - val_accuracy: 0.9333 - 54ms/epoch - 27ms/step\n",
      "Epoch 69/100\n",
      "2/2 - 0s - loss: 0.3127 - accuracy: 0.9167 - val_loss: 0.3713 - val_accuracy: 0.9333 - 70ms/epoch - 35ms/step\n",
      "Epoch 70/100\n",
      "2/2 - 0s - loss: 0.3086 - accuracy: 0.9167 - val_loss: 0.3665 - val_accuracy: 0.9333 - 53ms/epoch - 27ms/step\n",
      "Epoch 71/100\n",
      "2/2 - 0s - loss: 0.3045 - accuracy: 0.9167 - val_loss: 0.3620 - val_accuracy: 0.9333 - 51ms/epoch - 25ms/step\n",
      "Epoch 72/100\n",
      "2/2 - 0s - loss: 0.3006 - accuracy: 0.9250 - val_loss: 0.3578 - val_accuracy: 0.9333 - 67ms/epoch - 34ms/step\n",
      "Epoch 73/100\n",
      "2/2 - 0s - loss: 0.2971 - accuracy: 0.9250 - val_loss: 0.3536 - val_accuracy: 0.9333 - 60ms/epoch - 30ms/step\n",
      "Epoch 74/100\n",
      "2/2 - 0s - loss: 0.2933 - accuracy: 0.9250 - val_loss: 0.3493 - val_accuracy: 0.9333 - 47ms/epoch - 23ms/step\n",
      "Epoch 75/100\n",
      "2/2 - 0s - loss: 0.2899 - accuracy: 0.9250 - val_loss: 0.3451 - val_accuracy: 0.9333 - 47ms/epoch - 24ms/step\n",
      "Epoch 76/100\n",
      "2/2 - 0s - loss: 0.2864 - accuracy: 0.9250 - val_loss: 0.3408 - val_accuracy: 0.9333 - 67ms/epoch - 33ms/step\n",
      "Epoch 77/100\n",
      "2/2 - 0s - loss: 0.2831 - accuracy: 0.9250 - val_loss: 0.3363 - val_accuracy: 0.9333 - 47ms/epoch - 24ms/step\n",
      "Epoch 78/100\n",
      "2/2 - 0s - loss: 0.2798 - accuracy: 0.9250 - val_loss: 0.3318 - val_accuracy: 0.9333 - 71ms/epoch - 35ms/step\n",
      "Epoch 79/100\n",
      "2/2 - 0s - loss: 0.2767 - accuracy: 0.9167 - val_loss: 0.3275 - val_accuracy: 0.9333 - 112ms/epoch - 56ms/step\n",
      "Epoch 80/100\n",
      "2/2 - 0s - loss: 0.2737 - accuracy: 0.9167 - val_loss: 0.3233 - val_accuracy: 0.9333 - 99ms/epoch - 49ms/step\n",
      "Epoch 81/100\n",
      "2/2 - 0s - loss: 0.2706 - accuracy: 0.9167 - val_loss: 0.3193 - val_accuracy: 0.9333 - 109ms/epoch - 54ms/step\n",
      "Epoch 82/100\n",
      "2/2 - 0s - loss: 0.2676 - accuracy: 0.9167 - val_loss: 0.3156 - val_accuracy: 0.9333 - 65ms/epoch - 33ms/step\n",
      "Epoch 83/100\n",
      "2/2 - 0s - loss: 0.2645 - accuracy: 0.9250 - val_loss: 0.3120 - val_accuracy: 0.9333 - 72ms/epoch - 36ms/step\n",
      "Epoch 84/100\n",
      "2/2 - 0s - loss: 0.2614 - accuracy: 0.9333 - val_loss: 0.3085 - val_accuracy: 0.9333 - 106ms/epoch - 53ms/step\n",
      "Epoch 85/100\n",
      "2/2 - 0s - loss: 0.2586 - accuracy: 0.9333 - val_loss: 0.3052 - val_accuracy: 0.9333 - 94ms/epoch - 47ms/step\n",
      "Epoch 86/100\n",
      "2/2 - 0s - loss: 0.2556 - accuracy: 0.9333 - val_loss: 0.3019 - val_accuracy: 0.9333 - 84ms/epoch - 42ms/step\n",
      "Epoch 87/100\n",
      "2/2 - 0s - loss: 0.2529 - accuracy: 0.9333 - val_loss: 0.2986 - val_accuracy: 0.9333 - 82ms/epoch - 41ms/step\n",
      "Epoch 88/100\n",
      "2/2 - 0s - loss: 0.2502 - accuracy: 0.9333 - val_loss: 0.2952 - val_accuracy: 0.9333 - 110ms/epoch - 55ms/step\n",
      "Epoch 89/100\n",
      "2/2 - 0s - loss: 0.2476 - accuracy: 0.9333 - val_loss: 0.2917 - val_accuracy: 0.9333 - 67ms/epoch - 33ms/step\n",
      "Epoch 90/100\n",
      "2/2 - 0s - loss: 0.2450 - accuracy: 0.9333 - val_loss: 0.2880 - val_accuracy: 0.9333 - 100ms/epoch - 50ms/step\n",
      "Epoch 91/100\n",
      "2/2 - 0s - loss: 0.2429 - accuracy: 0.9333 - val_loss: 0.2845 - val_accuracy: 0.9333 - 91ms/epoch - 45ms/step\n",
      "Epoch 92/100\n",
      "2/2 - 0s - loss: 0.2405 - accuracy: 0.9333 - val_loss: 0.2813 - val_accuracy: 0.9333 - 88ms/epoch - 44ms/step\n",
      "Epoch 93/100\n",
      "2/2 - 0s - loss: 0.2383 - accuracy: 0.9333 - val_loss: 0.2783 - val_accuracy: 0.9333 - 66ms/epoch - 33ms/step\n",
      "Epoch 94/100\n",
      "2/2 - 0s - loss: 0.2361 - accuracy: 0.9333 - val_loss: 0.2754 - val_accuracy: 0.9333 - 67ms/epoch - 33ms/step\n",
      "Epoch 95/100\n",
      "2/2 - 0s - loss: 0.2337 - accuracy: 0.9333 - val_loss: 0.2727 - val_accuracy: 0.9333 - 87ms/epoch - 44ms/step\n",
      "Epoch 96/100\n",
      "2/2 - 0s - loss: 0.2313 - accuracy: 0.9333 - val_loss: 0.2701 - val_accuracy: 0.9333 - 62ms/epoch - 31ms/step\n",
      "Epoch 97/100\n",
      "2/2 - 0s - loss: 0.2288 - accuracy: 0.9500 - val_loss: 0.2677 - val_accuracy: 0.9333 - 63ms/epoch - 31ms/step\n",
      "Epoch 98/100\n",
      "2/2 - 0s - loss: 0.2264 - accuracy: 0.9500 - val_loss: 0.2654 - val_accuracy: 0.9333 - 81ms/epoch - 41ms/step\n",
      "Epoch 99/100\n",
      "2/2 - 0s - loss: 0.2241 - accuracy: 0.9500 - val_loss: 0.2635 - val_accuracy: 0.9333 - 85ms/epoch - 43ms/step\n",
      "Epoch 100/100\n",
      "2/2 - 0s - loss: 0.2220 - accuracy: 0.9500 - val_loss: 0.2614 - val_accuracy: 0.9333 - 86ms/epoch - 43ms/step\n"
     ]
    },
    {
     "data": {
      "text/plain": [
       "<keras.src.callbacks.History at 0x7ea9db9cbf10>"
      ]
     },
     "execution_count": 15,
     "metadata": {},
     "output_type": "execute_result"
    }
   ],
   "source": [
    "input_size = 4\n",
    "output_size = 3\n",
    "hidden_layer_size = 50\n",
    "\n",
    "model = tf.keras.Sequential([\n",
    "\n",
    "    tf.keras.layers.Dense(hidden_layer_size, activation='relu'),\n",
    "    tf.keras.layers.Dense(hidden_layer_size, activation='sigmoid'),\n",
    "    tf.keras.layers.Dense(output_size, activation='softmax')\n",
    "])\n",
    "\n",
    "\n",
    "\n",
    "model.compile(optimizer='adam', loss='sparse_categorical_crossentropy', metrics=['accuracy'])\n",
    "\n",
    "\n",
    "batch_size = 100\n",
    "\n",
    "\n",
    "max_epochs = 100\n",
    "\n",
    "early_stopping = tf.keras.callbacks.EarlyStopping(patience=0)\n",
    "\n",
    "\n",
    "model.fit(train_inputs,\n",
    "          train_targets,\n",
    "          batch_size=batch_size,\n",
    "          epochs=max_epochs,\n",
    "          callbacks=[early_stopping],\n",
    "          validation_data=(validation_inputs, validation_targets),\n",
    "          verbose = 2\n",
    "          )"
   ]
  },
  {
   "cell_type": "markdown",
   "metadata": {},
   "source": [
    "## Test the model"
   ]
  },
  {
   "cell_type": "code",
   "execution_count": 16,
   "metadata": {
    "colab": {
     "base_uri": "https://localhost:8080/"
    },
    "id": "dchpGAkvuQ8A",
    "outputId": "5c2fa590-d7b1-45d6-911b-46679ba9079b"
   },
   "outputs": [
    {
     "name": "stdout",
     "output_type": "stream",
     "text": [
      "1/1 [==============================] - 0s 43ms/step - loss: 0.2465 - accuracy: 0.8667\n"
     ]
    }
   ],
   "source": [
    "test_loss, test_accuracy = model.evaluate(test_inputs, test_targets)"
   ]
  },
  {
   "cell_type": "code",
   "execution_count": 17,
   "metadata": {
    "colab": {
     "base_uri": "https://localhost:8080/"
    },
    "id": "yPG2NaLIMttC",
    "outputId": "07d3c126-7cc4-4442-cd47-f1aabb85fd5e"
   },
   "outputs": [
    {
     "name": "stdout",
     "output_type": "stream",
     "text": [
      "\n",
      "Test loss: 0.25. Test accuracy: 86.67%\n"
     ]
    }
   ],
   "source": [
    "print('\\nTest loss: {0:.2f}. Test accuracy: {1:.2f}%'.format(test_loss, test_accuracy*100.))"
   ]
  }
 ],
 "metadata": {
  "colab": {
   "provenance": []
  },
  "kernelspec": {
   "display_name": "Python 3 (ipykernel)",
   "language": "python",
   "name": "python3"
  },
  "language_info": {
   "codemirror_mode": {
    "name": "ipython",
    "version": 3
   },
   "file_extension": ".py",
   "mimetype": "text/x-python",
   "name": "python",
   "nbconvert_exporter": "python",
   "pygments_lexer": "ipython3",
   "version": "3.11.5"
  }
 },
 "nbformat": 4,
 "nbformat_minor": 1
}
