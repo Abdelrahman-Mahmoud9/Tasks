{
  "cells": [
    {
      "cell_type": "markdown",
      "metadata": {
        "id": "ZKMVn0tnWii5"
      },
      "source": [
        "# Iris Flower Dataset business case"
      ]
    },
    {
      "cell_type": "markdown",
      "metadata": {
        "id": "WKxMAc-oWii8"
      },
      "source": [
        "### Importing the Packages & the Date"
      ]
    },
    {
      "cell_type": "code",
      "execution_count": 1,
      "metadata": {
        "colab": {
          "base_uri": "https://localhost:8080/"
        },
        "id": "-gb9ZvigFKsB",
        "outputId": "9a8da676-b914-47bc-d774-448dedae9651"
      },
      "outputs": [
        {
          "output_type": "execute_result",
          "data": {
            "text/plain": [
              "array([['5.1', '3.5', '1.4', '0.2', 'Iris-setosa'],\n",
              "       ['4.9', '3', '1.4', '0.2', 'Iris-setosa'],\n",
              "       ['4.7', '3.2', '1.3', '0.2', 'Iris-setosa'],\n",
              "       ['4.6', '3.1', '1.5', '0.2', 'Iris-setosa'],\n",
              "       ['5', '3.6', '1.4', '0.2', 'Iris-setosa']], dtype='<U15')"
            ]
          },
          "metadata": {},
          "execution_count": 1
        }
      ],
      "source": [
        "import numpy as np\n",
        "from sklearn import preprocessing\n",
        "import tensorflow as tf\n",
        "\n",
        "raw_csv_data = np.loadtxt('IRIS.csv', delimiter = ',',skiprows=1,dtype=str)\n",
        "raw_csv_data[:5,:]"
      ]
    },
    {
      "cell_type": "markdown",
      "metadata": {
        "id": "VZjDfzgcWii-"
      },
      "source": [
        "### Checking for Incomplete Data"
      ]
    },
    {
      "cell_type": "code",
      "execution_count": 2,
      "metadata": {
        "colab": {
          "base_uri": "https://localhost:8080/"
        },
        "id": "-Gb5UaLLIFbu",
        "outputId": "d57b5f8f-c79f-4ef1-c51a-600892470de8"
      },
      "outputs": [
        {
          "output_type": "execute_result",
          "data": {
            "text/plain": [
              "0"
            ]
          },
          "metadata": {},
          "execution_count": 2
        }
      ],
      "source": [
        "np.isnan(raw_csv_data[:,:-1].astype(float)).sum()"
      ]
    },
    {
      "cell_type": "markdown",
      "metadata": {
        "id": "OF5okXZhWii-"
      },
      "source": [
        "### splitting the Data"
      ]
    },
    {
      "cell_type": "code",
      "execution_count": 3,
      "metadata": {
        "id": "dow70LvNHen3"
      },
      "outputs": [],
      "source": [
        "inputs_all = raw_csv_data[:,:-1]\n",
        "targets_all = raw_csv_data[:,-1]"
      ]
    },
    {
      "cell_type": "markdown",
      "metadata": {
        "id": "noEu9jICWii_"
      },
      "source": [
        "### coverting the target to Numeric"
      ]
    },
    {
      "cell_type": "code",
      "execution_count": 4,
      "metadata": {
        "colab": {
          "base_uri": "https://localhost:8080/"
        },
        "id": "tfFnhRhCI4kw",
        "outputId": "6d0e3191-832a-4878-f70a-f49dfcb4cdcc"
      },
      "outputs": [
        {
          "output_type": "execute_result",
          "data": {
            "text/plain": [
              "(array(['Iris-setosa', 'Iris-versicolor', 'Iris-virginica'], dtype='<U15'),\n",
              " array([50, 50, 50]))"
            ]
          },
          "metadata": {},
          "execution_count": 4
        }
      ],
      "source": [
        "np.unique(targets_all,return_counts=True)"
      ]
    },
    {
      "cell_type": "code",
      "execution_count": 5,
      "metadata": {
        "id": "B9fKpzw1Jc9W"
      },
      "outputs": [],
      "source": [
        "keys = list(np.unique(targets_all))\n",
        "values = list(range(0, np.unique(targets_all).shape[0]))\n",
        "dict_target = dict(zip(keys, values))"
      ]
    },
    {
      "cell_type": "code",
      "execution_count": 6,
      "metadata": {
        "colab": {
          "base_uri": "https://localhost:8080/"
        },
        "id": "sNsO7IWJKNjd",
        "outputId": "b23f2e8c-6c08-4274-eacb-c6b4771f47dd"
      },
      "outputs": [
        {
          "output_type": "execute_result",
          "data": {
            "text/plain": [
              "{'Iris-setosa': 0, 'Iris-versicolor': 1, 'Iris-virginica': 2}"
            ]
          },
          "metadata": {},
          "execution_count": 6
        }
      ],
      "source": [
        "dict_target"
      ]
    },
    {
      "cell_type": "code",
      "execution_count": 7,
      "metadata": {
        "id": "HRNXOcBvKWOy"
      },
      "outputs": [],
      "source": [
        "for i in np.unique(targets_all):\n",
        "       targets_all = np.where(targets_all == i,\n",
        "                                          dict_target[i],\n",
        "                                          targets_all)"
      ]
    },
    {
      "cell_type": "code",
      "execution_count": 8,
      "metadata": {
        "colab": {
          "base_uri": "https://localhost:8080/"
        },
        "id": "1OBb1yczKo1d",
        "outputId": "031ed318-74c8-4980-fe58-7042f537a09a"
      },
      "outputs": [
        {
          "output_type": "execute_result",
          "data": {
            "text/plain": [
              "(array(['0', '1', '2'], dtype='<U15'), array([50, 50, 50]))"
            ]
          },
          "metadata": {},
          "execution_count": 8
        }
      ],
      "source": [
        "np.unique(targets_all,return_counts=True)"
      ]
    },
    {
      "cell_type": "markdown",
      "metadata": {
        "id": "iv0hqeebWijA"
      },
      "source": [
        "### coverting to numbers"
      ]
    },
    {
      "cell_type": "code",
      "execution_count": 9,
      "metadata": {
        "id": "jUVC175KKpcE"
      },
      "outputs": [],
      "source": [
        "inputs_all = inputs_all.astype(float)\n",
        "targets_all = targets_all.astype(int)"
      ]
    },
    {
      "cell_type": "markdown",
      "metadata": {
        "id": "btcI1TReWijB"
      },
      "source": [
        "### Standardize the inputs"
      ]
    },
    {
      "cell_type": "code",
      "execution_count": 10,
      "metadata": {
        "id": "T4mxvMhsLO3C"
      },
      "outputs": [],
      "source": [
        "scaled_inputs = preprocessing.scale(inputs_all)"
      ]
    },
    {
      "cell_type": "markdown",
      "metadata": {
        "id": "fcr0uM6QWijB"
      },
      "source": [
        "### Shuffle the data"
      ]
    },
    {
      "cell_type": "code",
      "execution_count": 11,
      "metadata": {
        "id": "fSXLN3CTLO8e"
      },
      "outputs": [],
      "source": [
        "shuffled_indices = np.arange(scaled_inputs.shape[0])\n",
        "np.random.shuffle(shuffled_indices)\n",
        "\n",
        "shuffled_inputs = scaled_inputs[shuffled_indices]\n",
        "shuffled_targets = targets_all[shuffled_indices]"
      ]
    },
    {
      "cell_type": "markdown",
      "metadata": {
        "id": "AeB3QbjYWijB"
      },
      "source": [
        "### Split the dataset into train, validation, and test"
      ]
    },
    {
      "cell_type": "code",
      "execution_count": 12,
      "metadata": {
        "colab": {
          "base_uri": "https://localhost:8080/"
        },
        "id": "ltEoihsXLPBF",
        "outputId": "1cab436e-068d-465a-bddb-67675fce6cef"
      },
      "outputs": [
        {
          "output_type": "stream",
          "name": "stdout",
          "text": [
            "116 120\n",
            "18 15\n",
            "16 15\n"
          ]
        }
      ],
      "source": [
        "samples_count = shuffled_inputs.shape[0]\n",
        "\n",
        "train_samples_count = int(0.8*samples_count)\n",
        "validation_samples_count = int(0.1*samples_count)\n",
        "test_samples_count = samples_count - train_samples_count - validation_samples_count\n",
        "\n",
        "train_inputs = shuffled_inputs[:train_samples_count]\n",
        "train_targets = shuffled_targets[:train_samples_count]\n",
        "\n",
        "validation_inputs = shuffled_inputs[train_samples_count:train_samples_count+validation_samples_count]\n",
        "validation_targets = shuffled_targets[train_samples_count:train_samples_count+validation_samples_count]\n",
        "\n",
        "test_inputs = shuffled_inputs[train_samples_count+validation_samples_count:]\n",
        "test_targets = shuffled_targets[train_samples_count+validation_samples_count:]\n",
        "\n",
        "print(np.sum(train_targets), train_samples_count)\n",
        "print(np.sum(validation_targets), validation_samples_count)\n",
        "print(np.sum(test_targets), test_samples_count)"
      ]
    },
    {
      "cell_type": "markdown",
      "metadata": {
        "id": "v0PNZ0fUWijC"
      },
      "source": [
        "### converting the dataset into .npz files"
      ]
    },
    {
      "cell_type": "code",
      "execution_count": 13,
      "metadata": {
        "id": "t4YH-FX0LPEl"
      },
      "outputs": [],
      "source": [
        "np.savez('IRIS_data_train', inputs=train_inputs, targets=train_targets)\n",
        "np.savez('IRIS_data_validation', inputs=validation_inputs, targets=validation_targets)\n",
        "np.savez('IRIS_data_test', inputs=test_inputs, targets=test_targets)"
      ]
    },
    {
      "cell_type": "code",
      "execution_count": 14,
      "metadata": {
        "id": "U6n2rq4YLPJg"
      },
      "outputs": [],
      "source": [
        "npz = np.load('IRIS_data_train.npz')\n",
        "\n",
        "train_inputs = npz['inputs'].astype(float)\n",
        "train_targets = npz['targets'].astype(int)\n",
        "\n",
        "npz = np.load('IRIS_data_validation.npz')\n",
        "validation_inputs, validation_targets = npz['inputs'].astype(float), npz['targets'].astype(int)\n",
        "\n",
        "npz = np.load('IRIS_data_test.npz')\n",
        "test_inputs, test_targets = npz['inputs'].astype(float), npz['targets'].astype(int)"
      ]
    },
    {
      "cell_type": "markdown",
      "metadata": {
        "id": "F4oq8Z2UWijC"
      },
      "source": [
        "### Model\n",
        "#### Outline, optimizers, loss, early stopping and training"
      ]
    },
    {
      "cell_type": "code",
      "execution_count": 15,
      "metadata": {
        "colab": {
          "base_uri": "https://localhost:8080/"
        },
        "id": "gAoVzNpzMtng",
        "outputId": "b5cbeab2-a91d-4f90-fe89-1f790fab3fb3"
      },
      "outputs": [
        {
          "output_type": "stream",
          "name": "stdout",
          "text": [
            "Epoch 1/100\n",
            "3/3 - 2s - loss: 0.9583 - accuracy: 0.4333 - val_loss: 0.8423 - val_accuracy: 0.8000 - 2s/epoch - 782ms/step\n",
            "Epoch 2/100\n",
            "3/3 - 0s - loss: 0.8963 - accuracy: 0.6667 - val_loss: 0.7708 - val_accuracy: 0.8000 - 66ms/epoch - 22ms/step\n",
            "Epoch 3/100\n",
            "3/3 - 0s - loss: 0.8391 - accuracy: 0.7000 - val_loss: 0.7134 - val_accuracy: 0.8000 - 67ms/epoch - 22ms/step\n",
            "Epoch 4/100\n",
            "3/3 - 0s - loss: 0.7907 - accuracy: 0.7083 - val_loss: 0.6643 - val_accuracy: 0.8667 - 73ms/epoch - 24ms/step\n",
            "Epoch 5/100\n",
            "3/3 - 0s - loss: 0.7461 - accuracy: 0.7250 - val_loss: 0.6212 - val_accuracy: 0.8667 - 71ms/epoch - 24ms/step\n",
            "Epoch 6/100\n",
            "3/3 - 0s - loss: 0.7055 - accuracy: 0.7583 - val_loss: 0.5831 - val_accuracy: 0.8667 - 78ms/epoch - 26ms/step\n",
            "Epoch 7/100\n",
            "3/3 - 0s - loss: 0.6702 - accuracy: 0.7833 - val_loss: 0.5468 - val_accuracy: 0.8667 - 146ms/epoch - 49ms/step\n",
            "Epoch 8/100\n",
            "3/3 - 0s - loss: 0.6361 - accuracy: 0.7750 - val_loss: 0.5152 - val_accuracy: 0.8667 - 170ms/epoch - 57ms/step\n",
            "Epoch 9/100\n",
            "3/3 - 0s - loss: 0.6036 - accuracy: 0.8000 - val_loss: 0.4859 - val_accuracy: 0.8667 - 67ms/epoch - 22ms/step\n",
            "Epoch 10/100\n",
            "3/3 - 0s - loss: 0.5727 - accuracy: 0.8083 - val_loss: 0.4608 - val_accuracy: 0.8667 - 75ms/epoch - 25ms/step\n",
            "Epoch 11/100\n",
            "3/3 - 0s - loss: 0.5432 - accuracy: 0.8333 - val_loss: 0.4367 - val_accuracy: 0.9333 - 112ms/epoch - 37ms/step\n",
            "Epoch 12/100\n",
            "3/3 - 0s - loss: 0.5139 - accuracy: 0.8417 - val_loss: 0.4146 - val_accuracy: 0.9333 - 184ms/epoch - 61ms/step\n",
            "Epoch 13/100\n",
            "3/3 - 0s - loss: 0.4864 - accuracy: 0.8500 - val_loss: 0.3942 - val_accuracy: 0.9333 - 112ms/epoch - 37ms/step\n",
            "Epoch 14/100\n",
            "3/3 - 0s - loss: 0.4606 - accuracy: 0.8417 - val_loss: 0.3754 - val_accuracy: 0.9333 - 108ms/epoch - 36ms/step\n",
            "Epoch 15/100\n",
            "3/3 - 0s - loss: 0.4346 - accuracy: 0.8500 - val_loss: 0.3578 - val_accuracy: 0.9333 - 117ms/epoch - 39ms/step\n",
            "Epoch 16/100\n",
            "3/3 - 0s - loss: 0.4115 - accuracy: 0.8667 - val_loss: 0.3414 - val_accuracy: 0.9333 - 151ms/epoch - 50ms/step\n",
            "Epoch 17/100\n",
            "3/3 - 0s - loss: 0.3900 - accuracy: 0.8833 - val_loss: 0.3273 - val_accuracy: 0.9333 - 81ms/epoch - 27ms/step\n",
            "Epoch 18/100\n",
            "3/3 - 0s - loss: 0.3705 - accuracy: 0.8917 - val_loss: 0.3114 - val_accuracy: 0.9333 - 125ms/epoch - 42ms/step\n",
            "Epoch 19/100\n",
            "3/3 - 0s - loss: 0.3526 - accuracy: 0.8917 - val_loss: 0.2952 - val_accuracy: 0.9333 - 209ms/epoch - 70ms/step\n",
            "Epoch 20/100\n",
            "3/3 - 0s - loss: 0.3367 - accuracy: 0.8917 - val_loss: 0.2790 - val_accuracy: 0.9333 - 330ms/epoch - 110ms/step\n",
            "Epoch 21/100\n",
            "3/3 - 0s - loss: 0.3218 - accuracy: 0.8917 - val_loss: 0.2670 - val_accuracy: 0.9333 - 165ms/epoch - 55ms/step\n",
            "Epoch 22/100\n",
            "3/3 - 0s - loss: 0.3088 - accuracy: 0.9000 - val_loss: 0.2582 - val_accuracy: 0.9333 - 168ms/epoch - 56ms/step\n",
            "Epoch 23/100\n",
            "3/3 - 0s - loss: 0.2964 - accuracy: 0.9000 - val_loss: 0.2487 - val_accuracy: 0.9333 - 107ms/epoch - 36ms/step\n",
            "Epoch 24/100\n",
            "3/3 - 0s - loss: 0.2853 - accuracy: 0.9000 - val_loss: 0.2396 - val_accuracy: 0.9333 - 99ms/epoch - 33ms/step\n",
            "Epoch 25/100\n",
            "3/3 - 0s - loss: 0.2749 - accuracy: 0.9083 - val_loss: 0.2335 - val_accuracy: 0.9333 - 123ms/epoch - 41ms/step\n",
            "Epoch 26/100\n",
            "3/3 - 0s - loss: 0.2657 - accuracy: 0.9250 - val_loss: 0.2240 - val_accuracy: 0.9333 - 121ms/epoch - 40ms/step\n",
            "Epoch 27/100\n",
            "3/3 - 0s - loss: 0.2562 - accuracy: 0.9250 - val_loss: 0.2176 - val_accuracy: 0.9333 - 181ms/epoch - 60ms/step\n",
            "Epoch 28/100\n",
            "3/3 - 0s - loss: 0.2483 - accuracy: 0.9250 - val_loss: 0.2137 - val_accuracy: 0.9333 - 128ms/epoch - 43ms/step\n",
            "Epoch 29/100\n",
            "3/3 - 0s - loss: 0.2402 - accuracy: 0.9250 - val_loss: 0.2081 - val_accuracy: 0.9333 - 127ms/epoch - 42ms/step\n",
            "Epoch 30/100\n",
            "3/3 - 0s - loss: 0.2324 - accuracy: 0.9417 - val_loss: 0.2083 - val_accuracy: 1.0000 - 84ms/epoch - 28ms/step\n"
          ]
        },
        {
          "output_type": "execute_result",
          "data": {
            "text/plain": [
              "<keras.src.callbacks.History at 0x79751f63dba0>"
            ]
          },
          "metadata": {},
          "execution_count": 15
        }
      ],
      "source": [
        "input_size = 4\n",
        "output_size = 3\n",
        "hidden_layer_size = 50\n",
        "\n",
        "model = tf.keras.Sequential([\n",
        "\n",
        "    tf.keras.layers.Dense(hidden_layer_size, activation='relu'),\n",
        "    tf.keras.layers.Dense(hidden_layer_size, activation='relu'),\n",
        "    tf.keras.layers.Dense(output_size, activation='softmax')\n",
        "])\n",
        "\n",
        "\n",
        "\n",
        "model.compile(optimizer='adam', loss='sparse_categorical_crossentropy', metrics=['accuracy'])\n",
        "\n",
        "\n",
        "batch_size = 50\n",
        "\n",
        "\n",
        "max_epochs = 100\n",
        "\n",
        "early_stopping = tf.keras.callbacks.EarlyStopping(patience=0)\n",
        "\n",
        "\n",
        "model.fit(train_inputs,\n",
        "          train_targets,\n",
        "          batch_size=batch_size,\n",
        "          epochs=max_epochs,\n",
        "          callbacks=[early_stopping],\n",
        "          validation_data=(validation_inputs, validation_targets),\n",
        "          verbose = 2\n",
        "          )"
      ]
    },
    {
      "cell_type": "markdown",
      "metadata": {
        "id": "YP7aXuQ6WijC"
      },
      "source": [
        "## Test the model"
      ]
    },
    {
      "cell_type": "code",
      "execution_count": 16,
      "metadata": {
        "colab": {
          "base_uri": "https://localhost:8080/"
        },
        "id": "dchpGAkvuQ8A",
        "outputId": "6dd503d3-f589-41a7-88fb-8fced1cb336e"
      },
      "outputs": [
        {
          "output_type": "stream",
          "name": "stdout",
          "text": [
            "1/1 [==============================] - 0s 50ms/step - loss: 0.2556 - accuracy: 0.8667\n"
          ]
        }
      ],
      "source": [
        "test_loss, test_accuracy = model.evaluate(test_inputs, test_targets)"
      ]
    },
    {
      "cell_type": "code",
      "execution_count": 17,
      "metadata": {
        "colab": {
          "base_uri": "https://localhost:8080/"
        },
        "id": "yPG2NaLIMttC",
        "outputId": "565d96c1-b0d1-4b27-f56e-a48a5b96d673"
      },
      "outputs": [
        {
          "output_type": "stream",
          "name": "stdout",
          "text": [
            "\n",
            "Test loss: 0.26. Test accuracy: 86.67%\n"
          ]
        }
      ],
      "source": [
        "print('\\nTest loss: {0:.2f}. Test accuracy: {1:.2f}%'.format(test_loss, test_accuracy*100.))"
      ]
    }
  ],
  "metadata": {
    "colab": {
      "provenance": []
    },
    "kernelspec": {
      "display_name": "Python 3 (ipykernel)",
      "language": "python",
      "name": "python3"
    },
    "language_info": {
      "codemirror_mode": {
        "name": "ipython",
        "version": 3
      },
      "file_extension": ".py",
      "mimetype": "text/x-python",
      "name": "python",
      "nbconvert_exporter": "python",
      "pygments_lexer": "ipython3",
      "version": "3.11.5"
    }
  },
  "nbformat": 4,
  "nbformat_minor": 0
}